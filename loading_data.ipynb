{
 "cells": [
  {
   "cell_type": "code",
   "execution_count": 4,
   "metadata": {},
   "outputs": [],
   "source": [
    "import os\n",
    "from tqdm import tqdm\n",
    "import pandas as pd\n",
    "import numpy as np\n",
    "import matplotlib.pyplot as plt\n",
    "from scipy.io import wavfile\n",
    "from python_speech_features import mfcc, logfbank \n",
    "import librosa"
   ]
  },
  {
   "cell_type": "code",
   "execution_count": 7,
   "metadata": {},
   "outputs": [],
   "source": [
    "def plot_signals(signals): \n",
    "    fig, axes = plt.subplots(nrows=3, ncols=5, sharex=False, sharey=True, figsize = (20,5))\n",
    "    fig.suptitle('Time Series', size = 16)\n",
    "    i = 0\n",
    "    for x in range(2): \n",
    "        for y in range(5):\n",
    "            axes[x,y].set_titles(list(signals.keys())[i])\n",
    "            axes[x,y].plot(list(signals.keys())[i])\n",
    "            axes[x,y].get_xaxis().set_visible(False)\n",
    "            axes[x,y].get_yaxis().set_visible(False)\n",
    "            i+=1\n",
    "            \n",
    "def plot_fft(fft): \n",
    "    fig, axes = plt.subplots(nrows=3, ncols=5, sharex=False, sharey=True, figsize = (20,5))\n",
    "    fig.suptitle('Fourier Transforms', size = 16)\n",
    "    i = 0\n",
    "    for x in range(2): \n",
    "        for y in range(5):\n",
    "            data = list(fft.values())[i]\n",
    "            Y, freq = data[0], data[1]\n",
    "            axes[x,y].set_titles(list(fft.keys())[i])\n",
    "            axes[x,y].plot(freq, Y)\n",
    "            axes[x,y].get_xaxis().set_visible(False)\n",
    "            axes[x,y].get_yaxis().set_visible(False)\n",
    "            i+=1\n",
    "            \n",
    "def plot_fbank(fbank): \n",
    "    fig, axes = plt.subplots(nrows=3, ncols=5, sharex=False, sharey=True, figsize = (20,5))\n",
    "    fig.suptitle('Filter Bank Coefficients', size = 16)\n",
    "    i = 0\n",
    "    for x in range(2): \n",
    "        for y in range(5):\n",
    "            axes[x,y].set_titles(list(fbank.keys())[i])\n",
    "            axes[x,y].imshow(list(fbank.keys())[i], cmap ='hot', interpolation = 'nearest')\n",
    "            axes[x,y].get_xaxis().set_visible(False)\n",
    "            axes[x,y].get_yaxis().set_visible(False)\n",
    "            i+=1\n",
    "            \n",
    "            \n",
    "def plot_mfcss(mfccs): \n",
    "    fig, axes = plt.subplots(nrows=3, ncols=5, sharex=False, sharey=True, figsize = (20,5))\n",
    "    fig.suptitle('Mel Frequency Cepstrum Coefficients', size = 16)\n",
    "    i = 0\n",
    "    for x in range(2): \n",
    "        for y in range(5):\n",
    "            axes[x,y].set_titles(list(mfccs.keys())[i])\n",
    "            axes[x,y].imshow(list(mfccs.keys())[i], cmap ='hot', interpolation = 'nearest')\n",
    "            axes[x,y].get_xaxis().set_visible(False)\n",
    "            axes[x,y].get_yaxis().set_visible(False)\n",
    "            i+=1"
   ]
  },
  {
   "cell_type": "code",
   "execution_count": 18,
   "metadata": {},
   "outputs": [
    {
     "name": "stdout",
     "output_type": "stream",
     "text": [
      "Fichier CSV généré : instruments.csv\n"
     ]
    }
   ],
   "source": [
    "import os\n",
    "import csv\n",
    "\n",
    "root_dir = \"wavfiles\"\n",
    "\n",
    "output_csv = \"instruments.csv\"\n",
    "data = []\n",
    "\n",
    "for folder_path, _, files in os.walk(root_dir):\n",
    "    label = os.path.basename(folder_path)\n",
    "    for file in files:\n",
    "        if file.endswith(\".wav\"):\n",
    "    \n",
    "            data.append({\n",
    "                \"fname\": file,\n",
    "                \"label\": label\n",
    "            })\n",
    "\n",
    "with open(output_csv, mode=\"w\", newline=\"\", encoding=\"utf-8\") as csv_file:\n",
    "    writer = csv.DictWriter(csv_file, fieldnames=[\"fname\", \"label\"])\n",
    "    writer.writeheader()\n",
    "    writer.writerows(data)\n",
    "\n",
    "print(f\"Fichier CSV généré : {output_csv}\")\n"
   ]
  },
  {
   "cell_type": "code",
   "execution_count": 22,
   "metadata": {},
   "outputs": [
    {
     "ename": "FileNotFoundError",
     "evalue": "[Errno 2] No such file or directory: '0356dec7.wav'",
     "output_type": "error",
     "traceback": [
      "\u001b[1;31m---------------------------------------------------------------------------\u001b[0m",
      "\u001b[1;31mFileNotFoundError\u001b[0m                         Traceback (most recent call last)",
      "Cell \u001b[1;32mIn[22], line 5\u001b[0m\n\u001b[0;32m      2\u001b[0m df\u001b[38;5;241m.\u001b[39mset_index(\u001b[38;5;124m'\u001b[39m\u001b[38;5;124mfname\u001b[39m\u001b[38;5;124m'\u001b[39m, inplace\u001b[38;5;241m=\u001b[39m\u001b[38;5;28;01mTrue\u001b[39;00m)\n\u001b[0;32m      4\u001b[0m \u001b[38;5;28;01mfor\u001b[39;00m f \u001b[38;5;129;01min\u001b[39;00m df\u001b[38;5;241m.\u001b[39mindex: \n\u001b[1;32m----> 5\u001b[0m     rate, signal \u001b[38;5;241m=\u001b[39m \u001b[43mwavfile\u001b[49m\u001b[38;5;241;43m.\u001b[39;49m\u001b[43mread\u001b[49m\u001b[43m(\u001b[49m\u001b[43mf\u001b[49m\u001b[43m)\u001b[49m\n\u001b[0;32m      6\u001b[0m     df\u001b[38;5;241m.\u001b[39mat[f, \u001b[38;5;124m'\u001b[39m\u001b[38;5;124mlenght\u001b[39m\u001b[38;5;124m'\u001b[39m] \u001b[38;5;241m=\u001b[39m signal\u001b[38;5;241m.\u001b[39mshape[\u001b[38;5;241m0\u001b[39m]\u001b[38;5;241m/\u001b[39mrate\n\u001b[0;32m      8\u001b[0m df\n",
      "File \u001b[1;32m~\\AppData\\Roaming\\Python\\Python312\\site-packages\\scipy\\io\\wavfile.py:674\u001b[0m, in \u001b[0;36mread\u001b[1;34m(filename, mmap)\u001b[0m\n\u001b[0;32m    672\u001b[0m     mmap \u001b[38;5;241m=\u001b[39m \u001b[38;5;28;01mFalse\u001b[39;00m\n\u001b[0;32m    673\u001b[0m \u001b[38;5;28;01melse\u001b[39;00m:\n\u001b[1;32m--> 674\u001b[0m     fid \u001b[38;5;241m=\u001b[39m \u001b[38;5;28;43mopen\u001b[39;49m\u001b[43m(\u001b[49m\u001b[43mfilename\u001b[49m\u001b[43m,\u001b[49m\u001b[43m \u001b[49m\u001b[38;5;124;43m'\u001b[39;49m\u001b[38;5;124;43mrb\u001b[39;49m\u001b[38;5;124;43m'\u001b[39;49m\u001b[43m)\u001b[49m\n\u001b[0;32m    676\u001b[0m \u001b[38;5;28;01mtry\u001b[39;00m:\n\u001b[0;32m    677\u001b[0m     file_size, is_big_endian, is_rf64 \u001b[38;5;241m=\u001b[39m _read_riff_chunk(fid)\n",
      "\u001b[1;31mFileNotFoundError\u001b[0m: [Errno 2] No such file or directory: '0356dec7.wav'"
     ]
    }
   ],
   "source": [
    "df = pd.read_csv(\"instruments.csv\")\n",
    "df.set_index('fname', inplace=True)\n",
    "\n",
    "for f in df.index: \n",
    "    rate, signal = wavfile.read(f)\n",
    "    df.at[f, 'lenght'] = signal.shape[0]/rate\n",
    "    \n",
    "df\n"
   ]
  }
 ],
 "metadata": {
  "kernelspec": {
   "display_name": "Python 3",
   "language": "python",
   "name": "python3"
  },
  "language_info": {
   "codemirror_mode": {
    "name": "ipython",
    "version": 3
   },
   "file_extension": ".py",
   "mimetype": "text/x-python",
   "name": "python",
   "nbconvert_exporter": "python",
   "pygments_lexer": "ipython3",
   "version": "3.12.6"
  }
 },
 "nbformat": 4,
 "nbformat_minor": 2
}
